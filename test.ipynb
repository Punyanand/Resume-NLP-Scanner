{
 "cells": [
  {
   "cell_type": "code",
   "execution_count": 5,
   "id": "aee10d1f",
   "metadata": {},
   "outputs": [
    {
     "name": "stderr",
     "output_type": "stream",
     "text": [
      "[nltk_data] Downloading package punkt_tab to c:\\Punya-Workspace\\my\n",
      "[nltk_data]     workspace\\resume_scanner\\nltk_data...\n",
      "[nltk_data]   Package punkt_tab is already up-to-date!\n"
     ]
    }
   ],
   "source": [
    "import streamlit as st\n",
    "from utils import extract_text_from_pdf\n",
    "from parser import extract_skills, extract_sentences"
   ]
  },
  {
   "cell_type": "code",
   "execution_count": 6,
   "id": "2d3b5920",
   "metadata": {},
   "outputs": [
    {
     "name": "stderr",
     "output_type": "stream",
     "text": [
      "2025-06-29 16:13:59.553 WARNING streamlit.runtime.scriptrunner_utils.script_run_context: Thread 'MainThread': missing ScriptRunContext! This warning can be ignored when running in bare mode.\n",
      "2025-06-29 16:14:00.789 \n",
      "  \u001b[33m\u001b[1mWarning:\u001b[0m to view this Streamlit app on a browser, run it with the following\n",
      "  command:\n",
      "\n",
      "    streamlit run c:\\Punya-Workspace\\my workspace\\resume_scanner\\venv311\\Lib\\site-packages\\ipykernel_launcher.py [ARGUMENTS]\n",
      "2025-06-29 16:14:00.789 Thread 'MainThread': missing ScriptRunContext! This warning can be ignored when running in bare mode.\n",
      "2025-06-29 16:14:00.790 Thread 'MainThread': missing ScriptRunContext! This warning can be ignored when running in bare mode.\n",
      "2025-06-29 16:14:00.792 Thread 'MainThread': missing ScriptRunContext! This warning can be ignored when running in bare mode.\n",
      "2025-06-29 16:14:00.793 Thread 'MainThread': missing ScriptRunContext! This warning can be ignored when running in bare mode.\n",
      "2025-06-29 16:14:00.794 Thread 'MainThread': missing ScriptRunContext! This warning can be ignored when running in bare mode.\n",
      "2025-06-29 16:14:00.795 Thread 'MainThread': missing ScriptRunContext! This warning can be ignored when running in bare mode.\n",
      "2025-06-29 16:14:00.796 Thread 'MainThread': missing ScriptRunContext! This warning can be ignored when running in bare mode.\n",
      "2025-06-29 16:14:00.799 Thread 'MainThread': missing ScriptRunContext! This warning can be ignored when running in bare mode.\n"
     ]
    }
   ],
   "source": [
    "st.title(\"📝 Resume Scanner\")\n",
    "\n",
    "uploaded_file = st.file_uploader(\"Upload a Resume (PDF)\", type=[\"pdf\"])\n",
    "if uploaded_file is not None:\n",
    "    text = extract_text_from_pdf(uploaded_file)\n",
    "    st.subheader(\"Extracted Text\")\n",
    "    st.write(text)\n",
    "\n",
    "    skills = extract_skills(text)\n",
    "    st.subheader(\"Extracted Skills\")\n",
    "    st.write(skills)\n",
    "\n",
    "    sentences = extract_sentences(text)\n",
    "    st.subheader(\"Tokenized Sentences\")\n",
    "    st.write(sentences)\n"
   ]
  }
 ],
 "metadata": {
  "kernelspec": {
   "display_name": "venv311",
   "language": "python",
   "name": "python3"
  },
  "language_info": {
   "codemirror_mode": {
    "name": "ipython",
    "version": 3
   },
   "file_extension": ".py",
   "mimetype": "text/x-python",
   "name": "python",
   "nbconvert_exporter": "python",
   "pygments_lexer": "ipython3",
   "version": "3.11.0"
  }
 },
 "nbformat": 4,
 "nbformat_minor": 5
}
